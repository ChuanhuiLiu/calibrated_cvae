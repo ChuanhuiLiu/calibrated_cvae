{
 "cells": [
  {
   "cell_type": "code",
   "execution_count": 7,
   "metadata": {},
   "outputs": [
    {
     "name": "stdout",
     "output_type": "stream",
     "text": [
      "Testing Python Environment!\n",
      "---------------------------\n",
      "sys.version_info(major=3, minor=7, micro=16, releaselevel='final', serial=0)\n",
      "1.8.2+cu111\n",
      "default device is cpu\n"
     ]
    }
   ],
   "source": [
    "import torch\n",
    "import sys\n",
    "import os\n",
    "print(\"Testing Python Environment:\")\n",
    "print(\"---------------------------\")\n",
    "print(sys.version_info)\n",
    "print(torch.__version__)\n",
    "device = torch.device('cuda' if torch.cuda.is_available() else 'cpu')\n",
    "print(\"default device is \"+str(device))"
   ]
  }
 ],
 "metadata": {
  "kernelspec": {
   "display_name": "37Env",
   "language": "python",
   "name": "python3"
  },
  "language_info": {
   "codemirror_mode": {
    "name": "ipython",
    "version": 3
   },
   "file_extension": ".py",
   "mimetype": "text/x-python",
   "name": "python",
   "nbconvert_exporter": "python",
   "pygments_lexer": "ipython3",
   "version": "3.7.16"
  }
 },
 "nbformat": 4,
 "nbformat_minor": 2
}
